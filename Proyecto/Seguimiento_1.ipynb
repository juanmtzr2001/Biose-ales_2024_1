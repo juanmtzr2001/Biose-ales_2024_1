# **Bioseñales y sistemas**
## **Proyecto procesamiento de señales EMG**
## Sehuimiento #1
## Maria Alejandra Escobar - C.C 1004425012
## Juan Manuel Martínez - C.C 1007739919