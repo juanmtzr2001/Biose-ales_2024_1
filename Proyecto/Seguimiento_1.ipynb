{
 "cells": [
  {
   "cell_type": "markdown",
   "metadata": {},
   "source": [
    "\n",
    "## <center>**Bioseñales y sistemas**\n",
    "## <center>**Proyecto procesamiento de señales EMG**\n",
    "## <center>**Seguimiento 1**\n",
    "## Maria Alejandra Escobar - C.C 1004425012\n",
    "## Juan Manuel Martínez - C.C 1007739919"
   ]
  },
  {
   "cell_type": "code",
   "execution_count": 2,
   "metadata": {},
   "outputs": [],
   "source": [
    "#Se importan las librerias\n",
    "import scipy.io as sio\n",
    "import numpy as np\n",
    "import pandas as pd\n",
    "import matplotlib.pyplot as plt\n",
    "import scipy.stats as stats\n",
    "from statsmodels.tsa.stattools import adfuller"
   ]
  },
  {
   "cell_type": "code",
   "execution_count": null,
   "metadata": {},
   "outputs": [],
   "source": [
    "df = pd.read_csv('datos_emg')\n",
    "\n",
    "tiempo = df['Tiempo(ms)']\n",
    "canal_1 = df['Canal_1']\n",
    "canal_2 = df['Canal_2']\n",
    "canal_3 = df['Canal_3']\n",
    "canal_4 = df['Canal_4']\n",
    "canal_5 = df['Canal_5']\n",
    "canal_6 = df['Canal_6']\n",
    "canal_7 = df['Canal_7']\n",
    "canal_8 = df['Canal_8']"
   ]
  }
 ],
 "metadata": {
  "kernelspec": {
   "display_name": "Python 3",
   "language": "python",
   "name": "python3"
  },
  "language_info": {
   "codemirror_mode": {
    "name": "ipython",
    "version": 3
   },
   "file_extension": ".py",
   "mimetype": "text/x-python",
   "name": "python",
   "nbconvert_exporter": "python",
   "pygments_lexer": "ipython3",
   "version": "3.11.8"
  }
 },
 "nbformat": 4,
 "nbformat_minor": 2
}
