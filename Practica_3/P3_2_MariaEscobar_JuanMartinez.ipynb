{
  "cells": [
    {
      "cell_type": "markdown",
      "metadata": {
        "id": "0cKbyhHl_SA7"
      },
      "source": [
        "# <center>**Práctica 3 - Parte 2**\n",
        "## <center>**Comparación estadística de energía de señales EEG**\n",
        "#### Maria Alejandra Escobar - C.C 1004425012\n",
        "#### Juan Manuel Martínez - C.C 1007739919"
      ]
    },
    {
      "cell_type": "markdown",
      "metadata": {
        "id": "n3qpYAfE4F_l"
      },
      "source": [
        "#Punto 0\n",
        "Carga  y exploración de datos"
      ]
    },
    {
      "cell_type": "code",
      "execution_count": 2,
      "metadata": {
        "id": "MDQgNE1PBav7"
      },
      "outputs": [],
      "source": [
        "# Importar librerías\n",
        "import numpy as np;\n",
        "import matplotlib.pyplot as plt\n",
        "from csv import reader as reader_csv\n",
        "import scipy.signal as signal\n",
        "import scipy.io as sio\n",
        "import glob\n",
        "import pandas as pd\n",
        "import scipy.stats as stats"
      ]
    },
    {
      "cell_type": "code",
      "execution_count": 3,
      "metadata": {
        "colab": {
          "base_uri": "https://localhost:8080/"
        },
        "id": "UmzEqI7d9XVU",
        "outputId": "0b121e75-d499-4f95-ceaa-2aa110355638"
      },
      "outputs": [
        {
          "name": "stdout",
          "output_type": "stream",
          "text": [
            "Drive already mounted at /content/drive; to attempt to forcibly remount, call drive.mount(\"/content/drive\", force_remount=True).\n"
          ]
        }
      ],
      "source": [
        "# Conectar colab con drive\n",
        "from google.colab import drive\n",
        "drive.mount('/content/drive')"
      ]
    },
    {
      "cell_type": "code",
      "execution_count": 4,
      "metadata": {
        "id": "wzkN4deDGiYW"
      },
      "outputs": [],
      "source": [
        "datos_control = glob.glob('/content/drive/MyDrive/Colab Notebooks/Practica_3/control/*.mat')\n",
        "datos_parkinson = glob.glob('/content/drive/MyDrive/Colab Notebooks/Practica_3/parkinson/*.mat')"
      ]
    },
    {
      "cell_type": "code",
      "execution_count": 5,
      "metadata": {
        "colab": {
          "base_uri": "https://localhost:8080/"
        },
        "id": "LKdrOPobrFVO",
        "outputId": "065df9bf-8dcd-4847-d0f6-87cec88c1292"
      },
      "outputs": [
        {
          "name": "stdout",
          "output_type": "stream",
          "text": [
            "['/content/drive/MyDrive/Colab Notebooks/Practica_3/control/C005_EP_reposo_Repetido.mat', '/content/drive/MyDrive/Colab Notebooks/Practica_3/control/C002_EP_reposo.mat', '/content/drive/MyDrive/Colab Notebooks/Practica_3/control/C001R_EP_reposo.mat', '/content/drive/MyDrive/Colab Notebooks/Practica_3/control/C004_EP_reposo.mat', '/content/drive/MyDrive/Colab Notebooks/Practica_3/control/C006_EP_reposo.mat', '/content/drive/MyDrive/Colab Notebooks/Practica_3/control/C012_EP_reposo.mat', '/content/drive/MyDrive/Colab Notebooks/Practica_3/control/C007_EP_reposo.mat', '/content/drive/MyDrive/Colab Notebooks/Practica_3/control/C010_EP_reposo.mat', '/content/drive/MyDrive/Colab Notebooks/Practica_3/control/C011_EP_reposo.mat', '/content/drive/MyDrive/Colab Notebooks/Practica_3/control/C020_EP_reposo.mat', '/content/drive/MyDrive/Colab Notebooks/Practica_3/control/C021_EP_reposo.mat', '/content/drive/MyDrive/Colab Notebooks/Practica_3/control/C023_EP_reposo.mat', '/content/drive/MyDrive/Colab Notebooks/Practica_3/control/C018_EP_reposo.mat', '/content/drive/MyDrive/Colab Notebooks/Practica_3/control/C024_EP_reposo.mat', '/content/drive/MyDrive/Colab Notebooks/Practica_3/control/C013_EP_reposo.mat', '/content/drive/MyDrive/Colab Notebooks/Practica_3/control/C019_EP_reposo.mat', '/content/drive/MyDrive/Colab Notebooks/Practica_3/control/C015_EP_reposo.mat', '/content/drive/MyDrive/Colab Notebooks/Practica_3/control/C040_EP_reposo.mat', '/content/drive/MyDrive/Colab Notebooks/Practica_3/control/C030_EP_reposo.mat', '/content/drive/MyDrive/Colab Notebooks/Practica_3/control/C034_EP_reposo.mat', '/content/drive/MyDrive/Colab Notebooks/Practica_3/control/C042_EP_reposo.mat', '/content/drive/MyDrive/Colab Notebooks/Practica_3/control/C033R_EP_reposo.mat', '/content/drive/MyDrive/Colab Notebooks/Practica_3/control/C037_EP_reposo.mat', '/content/drive/MyDrive/Colab Notebooks/Practica_3/control/C027_EP_reposo.mat', '/content/drive/MyDrive/Colab Notebooks/Practica_3/control/C036_EP_reposo.mat', '/content/drive/MyDrive/Colab Notebooks/Practica_3/control/C028_EP_reposo.mat', '/content/drive/MyDrive/Colab Notebooks/Practica_3/control/C045_EP_reposo.mat', '/content/drive/MyDrive/Colab Notebooks/Practica_3/control/C029_EP_reposo.mat', '/content/drive/MyDrive/Colab Notebooks/Practica_3/control/C044_EP_reposo.mat', '/content/drive/MyDrive/Colab Notebooks/Practica_3/control/C041_EP_reposo.mat', '/content/drive/MyDrive/Colab Notebooks/Practica_3/control/C026_EP_reposo.mat', '/content/drive/MyDrive/Colab Notebooks/Practica_3/control/C025_EP_reposo.mat', '/content/drive/MyDrive/Colab Notebooks/Practica_3/control/C032_EP_reposo.mat', '/content/drive/MyDrive/Colab Notebooks/Practica_3/control/C031_EP_reposo.mat', '/content/drive/MyDrive/Colab Notebooks/Practica_3/control/C049_EP_reposo.mat', '/content/drive/MyDrive/Colab Notebooks/Practica_3/control/C046_EP_reposo.mat']\n"
          ]
        }
      ],
      "source": [
        "print(datos_control)"
      ]
    },
    {
      "cell_type": "code",
      "execution_count": 6,
      "metadata": {
        "colab": {
          "base_uri": "https://localhost:8080/"
        },
        "id": "DPFRL1MFBXgJ",
        "outputId": "454f2a18-fc4a-4094-a3a2-760ef5ef4d92"
      },
      "outputs": [
        {
          "name": "stdout",
          "output_type": "stream",
          "text": [
            "[(8, 2000, 149), (8, 2000, 176), (8, 2000, 180), (8, 2000, 146), (8, 2000, 168), (8, 2000, 172), (8, 2000, 173), (8, 2000, 136), (8, 2000, 173), (8, 2000, 166), (8, 2000, 180), (8, 2000, 206), (8, 2000, 157), (8, 2000, 186), (8, 2000, 175), (8, 2000, 179), (8, 2000, 140), (8, 2000, 187), (8, 2000, 144), (8, 2000, 173), (8, 2000, 167), (8, 2000, 189), (8, 2000, 181), (8, 2000, 142), (8, 2000, 147), (8, 2000, 169), (8, 2000, 161), (8, 2000, 160), (8, 2000, 258), (8, 2000, 203), (8, 2000, 154), (8, 2000, 154), (8, 2000, 163), (8, 2000, 178), (8, 2000, 184), (8, 2000, 164)]\n",
            "[(8, 2000, 138), (8, 2000, 143), (8, 2000, 176), (8, 2000, 140), (8, 2000, 150), (8, 2000, 174), (8, 2000, 143), (8, 2000, 147), (8, 2000, 149), (8, 2000, 153), (8, 2000, 140), (8, 2000, 154), (8, 2000, 154), (8, 2000, 170), (8, 2000, 142), (8, 2000, 167), (8, 2000, 174), (8, 2000, 198), (8, 2000, 171), (8, 2000, 162), (8, 2000, 157), (8, 2000, 164), (8, 2000, 159)]\n",
            "36\n",
            "23\n"
          ]
        }
      ],
      "source": [
        "# Dimensiones de los datos\n",
        "dimension_control = [sio.loadmat(x)['data'].shape for x in datos_control]\n",
        "dimension_parkinson = [sio.loadmat(x)['data'].shape for x in datos_parkinson]\n",
        "\n",
        "print(dimension_control)\n",
        "print(dimension_parkinson)\n",
        "print(len(dimension_control))\n",
        "print(len(dimension_parkinson))"
      ]
    },
    {
      "cell_type": "code",
      "execution_count": 7,
      "metadata": {
        "colab": {
          "base_uri": "https://localhost:8080/"
        },
        "id": "eTttr07jeUwn",
        "outputId": "05b10729-e444-4de4-8348-87578cf9ada7"
      },
      "outputs": [
        {
          "name": "stdout",
          "output_type": "stream",
          "text": [
            "<class 'list'>\n",
            "['/content/drive/MyDrive/Colab Notebooks/Practica_3/control/C005_EP_reposo_Repetido.mat', '/content/drive/MyDrive/Colab Notebooks/Practica_3/control/C002_EP_reposo.mat', '/content/drive/MyDrive/Colab Notebooks/Practica_3/control/C001R_EP_reposo.mat', '/content/drive/MyDrive/Colab Notebooks/Practica_3/control/C004_EP_reposo.mat', '/content/drive/MyDrive/Colab Notebooks/Practica_3/control/C006_EP_reposo.mat', '/content/drive/MyDrive/Colab Notebooks/Practica_3/control/C012_EP_reposo.mat', '/content/drive/MyDrive/Colab Notebooks/Practica_3/control/C007_EP_reposo.mat', '/content/drive/MyDrive/Colab Notebooks/Practica_3/control/C010_EP_reposo.mat', '/content/drive/MyDrive/Colab Notebooks/Practica_3/control/C011_EP_reposo.mat', '/content/drive/MyDrive/Colab Notebooks/Practica_3/control/C020_EP_reposo.mat', '/content/drive/MyDrive/Colab Notebooks/Practica_3/control/C021_EP_reposo.mat', '/content/drive/MyDrive/Colab Notebooks/Practica_3/control/C023_EP_reposo.mat', '/content/drive/MyDrive/Colab Notebooks/Practica_3/control/C018_EP_reposo.mat', '/content/drive/MyDrive/Colab Notebooks/Practica_3/control/C024_EP_reposo.mat', '/content/drive/MyDrive/Colab Notebooks/Practica_3/control/C013_EP_reposo.mat', '/content/drive/MyDrive/Colab Notebooks/Practica_3/control/C019_EP_reposo.mat', '/content/drive/MyDrive/Colab Notebooks/Practica_3/control/C015_EP_reposo.mat', '/content/drive/MyDrive/Colab Notebooks/Practica_3/control/C040_EP_reposo.mat', '/content/drive/MyDrive/Colab Notebooks/Practica_3/control/C030_EP_reposo.mat', '/content/drive/MyDrive/Colab Notebooks/Practica_3/control/C034_EP_reposo.mat', '/content/drive/MyDrive/Colab Notebooks/Practica_3/control/C042_EP_reposo.mat', '/content/drive/MyDrive/Colab Notebooks/Practica_3/control/C033R_EP_reposo.mat', '/content/drive/MyDrive/Colab Notebooks/Practica_3/control/C037_EP_reposo.mat', '/content/drive/MyDrive/Colab Notebooks/Practica_3/control/C027_EP_reposo.mat', '/content/drive/MyDrive/Colab Notebooks/Practica_3/control/C036_EP_reposo.mat', '/content/drive/MyDrive/Colab Notebooks/Practica_3/control/C028_EP_reposo.mat', '/content/drive/MyDrive/Colab Notebooks/Practica_3/control/C045_EP_reposo.mat', '/content/drive/MyDrive/Colab Notebooks/Practica_3/control/C029_EP_reposo.mat', '/content/drive/MyDrive/Colab Notebooks/Practica_3/control/C044_EP_reposo.mat', '/content/drive/MyDrive/Colab Notebooks/Practica_3/control/C041_EP_reposo.mat', '/content/drive/MyDrive/Colab Notebooks/Practica_3/control/C026_EP_reposo.mat', '/content/drive/MyDrive/Colab Notebooks/Practica_3/control/C025_EP_reposo.mat', '/content/drive/MyDrive/Colab Notebooks/Practica_3/control/C032_EP_reposo.mat', '/content/drive/MyDrive/Colab Notebooks/Practica_3/control/C031_EP_reposo.mat', '/content/drive/MyDrive/Colab Notebooks/Practica_3/control/C049_EP_reposo.mat', '/content/drive/MyDrive/Colab Notebooks/Practica_3/control/C046_EP_reposo.mat']\n"
          ]
        }
      ],
      "source": [
        "print(type(datos_control))\n",
        "print(datos_control)"
      ]
    },
    {
      "cell_type": "markdown",
      "metadata": {
        "id": "klMRtK1BT5rI"
      },
      "source": [
        "#Punto 1\n",
        "Implemente una función que reciba una señal de múltiples canales y épocas y calcule la Energía de promedio de cada canal."
      ]
    },
    {
      "cell_type": "code",
      "execution_count": 8,
      "metadata": {
        "id": "Q-mawZrmUAA9"
      },
      "outputs": [],
      "source": [
        "def promedio_energia(data):\n",
        "  resultado=np.zeros(data.shape[0]) #Se crea una matriz de ceros para almacenar la energia promedio de cada canal\n",
        "  for c in range (data.shape[0]): # Recorre cada canal\n",
        "    energia_epoca = 0\n",
        "    for e in range (data.shape[2]): # Recorre epocas dentro de cana canal\n",
        "      energia_datos = np.sum(np.square(data[c,:,e])) # Se saca promedio de los  datos de una epoca\n",
        "      num_datos = data.shape[1]\n",
        "      energiapromedio_datos = energia_datos/num_datos\n",
        "      energia_epoca = energia_epoca + energiapromedio_datos #primer valor será 0, se suman las energias de cada epoca\n",
        "    num_epocas=data.shape[2]\n",
        "    energia_canal = energia_epoca/num_epocas\n",
        "    resultado[c] = energia_canal # Se almacena en la matriz las energias de cada canal por sujeto en columnas\n",
        "\n",
        "  return resultado"
      ]
    },
    {
      "cell_type": "code",
      "execution_count": 9,
      "metadata": {
        "colab": {
          "base_uri": "https://localhost:8080/"
        },
        "id": "G0T4o8JFfKHw",
        "outputId": "cd02261f-b520-438a-dc70-a8eab6c0ba8f"
      },
      "outputs": [
        {
          "name": "stdout",
          "output_type": "stream",
          "text": [
            "[17.65565085 17.45834301 19.40021451 17.71351556 17.95273643 53.29906408\n",
            " 53.44278798 56.26037532]\n",
            "[ 7.98320143  8.80890512 10.40246856  9.82720001  8.33949103 46.9470245\n",
            " 33.43124814 37.84256294]\n",
            "[10.73282518 10.49295396 11.38007479  9.25282014 14.86508151 12.62207904\n",
            " 11.39066379 12.32929976]\n",
            "[ 7.07433666  9.14199983 14.37496607  7.13536346 14.39372299  7.33070887\n",
            "  7.97007705  9.74994933]\n",
            "[ 9.25541499  9.86924469 10.45589637 10.9141272  11.67599632 26.54302988\n",
            " 18.74798624 21.53354775]\n",
            "[ 4.56651815  4.60707751  5.81320591  5.40481081  5.23393997 23.16843677\n",
            " 22.84790088 25.04318082]\n",
            "[ 6.59005466  6.96260891  8.10949711  6.16244183  7.03015033 12.88351243\n",
            " 10.96787981 11.41389065]\n",
            "[ 5.59877729  5.4741844   6.36850233  5.37258096  5.16482121 10.73080292\n",
            "  7.74660639 13.70718762]\n",
            "[14.27556203 13.10241963  8.69199948  8.62230297 13.10318621 41.6853092\n",
            " 25.56055286 33.92617413]\n",
            "[ 2.45753139  3.05292497  2.58377617  2.06885893  2.05199764 10.17979317\n",
            "  8.79948129 11.14611523]\n",
            "[12.90379934 15.57416729 14.32019267 10.51288884  9.12590228 74.1127666\n",
            " 61.97713978 69.55035367]\n",
            "[ 7.76811625 13.58577717 15.64756168 11.01857985  7.69098888 26.21655185\n",
            " 26.09407503 23.03591616]\n",
            "[ 15.62525375  12.11138816  14.14905571  12.68938881  16.5397264\n",
            " 120.41755132  78.01502029 139.04767913]\n",
            "[16.55049557 18.54181507 24.10541    18.87919658 14.17159147 50.58530735\n",
            " 43.9124017  68.57196244]\n",
            "[ 23.5832784   27.55389932  26.14344233  17.34132846  15.30305967\n",
            " 113.52286669 112.44551474 161.08621582]\n",
            "[ 17.01825139  17.63812112  18.86401709  15.20150639  16.12751223\n",
            "  74.90246183  97.10929381 135.0805786 ]\n",
            "[ 8.78373251 10.86925593 14.71465402 14.2651004  12.29320369 36.63691445\n",
            " 34.37699274 33.98139763]\n",
            "[16.16063647 18.85189937 21.30698619 14.62620502 13.44542833 34.12180932\n",
            " 26.2089608  36.05792507]\n",
            "[ 5.96031449  6.19055407  5.77294895  5.80811456  9.32920893 21.02922833\n",
            " 17.20889034 23.08387422]\n",
            "[ 22.72686703  21.33011264  22.06972254  25.41496684  29.63084711\n",
            " 126.90799165 107.27204534 123.99133552]\n",
            "[ 22.23785512  34.29485804  38.74097907  39.89334794  35.1932179\n",
            " 172.68666724 107.83699658 149.4392786 ]\n",
            "[ 5.92010522 13.22627381  7.60566785  6.48837936  7.18854595  3.60760138\n",
            "  7.93245055  9.73643494]\n",
            "[13.82448137 15.15829748 18.79567589 12.90562602 13.91603174 11.05419247\n",
            "  8.30384176  7.06571946]\n",
            "[ 4.85128662  4.15529957  5.63708896  3.56949095  5.14303526  8.07574523\n",
            "  7.86564829 10.47835992]\n",
            "[ 5.3585898   4.33918247  1.41896471  2.12359885  3.97040078 12.36077517\n",
            " 10.53105124  9.78070065]\n",
            "[ 8.11891828  6.44994977  6.19314236  6.083929    9.63997088 28.88427159\n",
            " 26.79117836 34.42964944]\n",
            "[ 5.70986024  6.94965408  7.84671175  4.65539913  4.9595422  19.277897\n",
            " 18.33454039 24.47940453]\n",
            "[ 6.67627943  6.03952117  6.02837634  6.76855103  6.70913486 19.44185223\n",
            " 18.98000697 18.52341817]\n",
            "[ 8.26293178  9.0373562  12.53240393 11.47317587 12.16868128 35.0584031\n",
            " 31.75450975 35.94572369]\n",
            "[13.70309454 10.52494103 22.54120594 24.7463394  20.11262872 21.15093586\n",
            " 16.59433222 17.07877783]\n",
            "[3.52674769 3.24167978 3.3668153  3.23332534 3.35368091 8.64252281\n",
            " 8.30250537 9.1751212 ]\n",
            "[ 27.06963106  24.55280939  26.59706483  28.61212202  28.41235133\n",
            " 119.83145436  97.44100201 190.81697933]\n",
            "[11.66572459 10.89708373 10.02852969  9.35168114 10.59560214 45.68102323\n",
            " 30.45212086 26.67066446]\n",
            "[ 7.39912668 12.68997004  7.17801006  6.1443283   5.84748384 16.74677354\n",
            " 16.22370632 17.78093041]\n",
            "[10.53245483  8.8520377   9.15281127 11.2192224  11.20756    21.67229594\n",
            " 18.36590626 22.94541027]\n",
            "[ 8.1364134   6.53796306  6.88772078  6.3975993   7.01123039 35.31550416\n",
            " 35.03619654 34.77181112]\n"
          ]
        }
      ],
      "source": [
        "for datos in datos_control:\n",
        "  control= sio.loadmat(datos)\n",
        "  data = control['data']\n",
        "  energia = promedio_energia(data)\n",
        "  print(energia)"
      ]
    },
    {
      "cell_type": "markdown",
      "metadata": {
        "id": "HDLor52ohMx-"
      },
      "source": [
        "#Punto 2\n",
        "Calcule la energía de cada canal promediada por épocas para cada sujeto, esto para ambos grupos poblacionales. Guarde esta información en un DataFrame de columnas ‘canal’ y filas ‘#sujeto’ con los valores de energía calculados, un DataFrame para cada grupo poblacional."
      ]
    },
    {
      "cell_type": "code",
      "execution_count": 10,
      "metadata": {
        "colab": {
          "base_uri": "https://localhost:8080/"
        },
        "id": "XQjBxrJWwSBb",
        "outputId": "802357c4-5bd5-402f-85fe-2c3f84d13afd"
      },
      "outputs": [
        {
          "name": "stdout",
          "output_type": "stream",
          "text": [
            "             Canal 1    Canal 2    Canal 3    Canal 4    Canal 5     Canal 6  \\\n",
            "Sujeto 1   17.655651  17.458343  19.400215  17.713516  17.952736   53.299064   \n",
            "Sujeto 2    7.983201   8.808905  10.402469   9.827200   8.339491   46.947025   \n",
            "Sujeto 3   10.732825  10.492954  11.380075   9.252820  14.865082   12.622079   \n",
            "Sujeto 4    7.074337   9.142000  14.374966   7.135363  14.393723    7.330709   \n",
            "Sujeto 5    9.255415   9.869245  10.455896  10.914127  11.675996   26.543030   \n",
            "Sujeto 6    4.566518   4.607078   5.813206   5.404811   5.233940   23.168437   \n",
            "Sujeto 7    6.590055   6.962609   8.109497   6.162442   7.030150   12.883512   \n",
            "Sujeto 8    5.598777   5.474184   6.368502   5.372581   5.164821   10.730803   \n",
            "Sujeto 9   14.275562  13.102420   8.691999   8.622303  13.103186   41.685309   \n",
            "Sujeto 10   2.457531   3.052925   2.583776   2.068859   2.051998   10.179793   \n",
            "Sujeto 11  12.903799  15.574167  14.320193  10.512889   9.125902   74.112767   \n",
            "Sujeto 12   7.768116  13.585777  15.647562  11.018580   7.690989   26.216552   \n",
            "Sujeto 13  15.625254  12.111388  14.149056  12.689389  16.539726  120.417551   \n",
            "Sujeto 14  16.550496  18.541815  24.105410  18.879197  14.171591   50.585307   \n",
            "Sujeto 15  23.583278  27.553899  26.143442  17.341328  15.303060  113.522867   \n",
            "Sujeto 16  17.018251  17.638121  18.864017  15.201506  16.127512   74.902462   \n",
            "Sujeto 17   8.783733  10.869256  14.714654  14.265100  12.293204   36.636914   \n",
            "Sujeto 18  16.160636  18.851899  21.306986  14.626205  13.445428   34.121809   \n",
            "Sujeto 19   5.960314   6.190554   5.772949   5.808115   9.329209   21.029228   \n",
            "Sujeto 20  22.726867  21.330113  22.069723  25.414967  29.630847  126.907992   \n",
            "Sujeto 21  22.237855  34.294858  38.740979  39.893348  35.193218  172.686667   \n",
            "Sujeto 22   5.920105  13.226274   7.605668   6.488379   7.188546    3.607601   \n",
            "Sujeto 23  13.824481  15.158297  18.795676  12.905626  13.916032   11.054192   \n",
            "Sujeto 24   4.851287   4.155300   5.637089   3.569491   5.143035    8.075745   \n",
            "Sujeto 25   5.358590   4.339182   1.418965   2.123599   3.970401   12.360775   \n",
            "Sujeto 26   8.118918   6.449950   6.193142   6.083929   9.639971   28.884272   \n",
            "Sujeto 27   5.709860   6.949654   7.846712   4.655399   4.959542   19.277897   \n",
            "Sujeto 28   6.676279   6.039521   6.028376   6.768551   6.709135   19.441852   \n",
            "Sujeto 29   8.262932   9.037356  12.532404  11.473176  12.168681   35.058403   \n",
            "Sujeto 30  13.703095  10.524941  22.541206  24.746339  20.112629   21.150936   \n",
            "Sujeto 31   3.526748   3.241680   3.366815   3.233325   3.353681    8.642523   \n",
            "Sujeto 32  27.069631  24.552809  26.597065  28.612122  28.412351  119.831454   \n",
            "Sujeto 33  11.665725  10.897084  10.028530   9.351681  10.595602   45.681023   \n",
            "Sujeto 34   7.399127  12.689970   7.178010   6.144328   5.847484   16.746774   \n",
            "Sujeto 35  10.532455   8.852038   9.152811  11.219222  11.207560   21.672296   \n",
            "Sujeto 36   8.136413   6.537963   6.887721   6.397599   7.011230   35.315504   \n",
            "\n",
            "              Canal 7     Canal 8  \n",
            "Sujeto 1    53.442788   56.260375  \n",
            "Sujeto 2    33.431248   37.842563  \n",
            "Sujeto 3    11.390664   12.329300  \n",
            "Sujeto 4     7.970077    9.749949  \n",
            "Sujeto 5    18.747986   21.533548  \n",
            "Sujeto 6    22.847901   25.043181  \n",
            "Sujeto 7    10.967880   11.413891  \n",
            "Sujeto 8     7.746606   13.707188  \n",
            "Sujeto 9    25.560553   33.926174  \n",
            "Sujeto 10    8.799481   11.146115  \n",
            "Sujeto 11   61.977140   69.550354  \n",
            "Sujeto 12   26.094075   23.035916  \n",
            "Sujeto 13   78.015020  139.047679  \n",
            "Sujeto 14   43.912402   68.571962  \n",
            "Sujeto 15  112.445515  161.086216  \n",
            "Sujeto 16   97.109294  135.080579  \n",
            "Sujeto 17   34.376993   33.981398  \n",
            "Sujeto 18   26.208961   36.057925  \n",
            "Sujeto 19   17.208890   23.083874  \n",
            "Sujeto 20  107.272045  123.991336  \n",
            "Sujeto 21  107.836997  149.439279  \n",
            "Sujeto 22    7.932451    9.736435  \n",
            "Sujeto 23    8.303842    7.065719  \n",
            "Sujeto 24    7.865648   10.478360  \n",
            "Sujeto 25   10.531051    9.780701  \n",
            "Sujeto 26   26.791178   34.429649  \n",
            "Sujeto 27   18.334540   24.479405  \n",
            "Sujeto 28   18.980007   18.523418  \n",
            "Sujeto 29   31.754510   35.945724  \n",
            "Sujeto 30   16.594332   17.078778  \n",
            "Sujeto 31    8.302505    9.175121  \n",
            "Sujeto 32   97.441002  190.816979  \n",
            "Sujeto 33   30.452121   26.670664  \n",
            "Sujeto 34   16.223706   17.780930  \n",
            "Sujeto 35   18.365906   22.945410  \n",
            "Sujeto 36   35.036197   34.771811  \n"
          ]
        }
      ],
      "source": [
        "s_control = np.zeros((len(datos_control),8)) # Se crea un matriz de ceros con 36 filas (numero de sujetos de contol) y 8 columnas correspondientes a los canales\n",
        "\n",
        "for datos in range(len((datos_control))): # Itera sobre los sujetos\n",
        "  data = sio.loadmat(datos_control[datos])\n",
        "  info = data['data']\n",
        "  i = promedio_energia(info)\n",
        "  s_control[datos] = i\n",
        "df_control = pd.DataFrame ({'Canal 1':pd.Series(s_control[:,0]),'Canal 2':pd.Series(s_control[:,1]),'Canal 3':pd.Series(s_control[:,2]),'Canal 4':pd.Series(s_control[:,3]),'Canal 4':pd.Series(s_control[:,3]),'Canal 5':pd.Series(s_control[:,4]),'Canal 6':pd.Series(s_control[:,5]),'Canal 7':pd.Series(s_control[:,6]),'Canal 8':pd.Series(s_control[:,7])})\n",
        "df_control = df_control.rename(index={0: 'Sujeto 1', 1: 'Sujeto 2', 2: 'Sujeto 3', 3: 'Sujeto 4', 4: 'Sujeto 5', 5: 'Sujeto 6', 6: 'Sujeto 7', 7: 'Sujeto 8', 8: 'Sujeto 9', 9: 'Sujeto 10', 10: 'Sujeto 11', 11: 'Sujeto 12', 12: 'Sujeto 13', 13: 'Sujeto 14', 14: 'Sujeto 15', 15: 'Sujeto 16', 16: 'Sujeto 17', 17: 'Sujeto 18', 18: 'Sujeto 19', 19: 'Sujeto 20', 20: 'Sujeto 21', 21: 'Sujeto 22', 22: 'Sujeto 23', 23: 'Sujeto 24', 24: 'Sujeto 25', 25: 'Sujeto 26', 26: 'Sujeto 27',27: 'Sujeto 28',28: 'Sujeto 29',29: 'Sujeto 30',30: 'Sujeto 31',31: 'Sujeto 32',32: 'Sujeto 33',33: 'Sujeto 34',34: 'Sujeto 35',35: 'Sujeto 36'})\n",
        "print(df_control)"
      ]
    },
    {
      "cell_type": "code",
      "execution_count": 11,
      "metadata": {
        "colab": {
          "base_uri": "https://localhost:8080/"
        },
        "id": "0F34XL7V6Ymv",
        "outputId": "f0b83ec8-f775-4cd5-cc63-3fd36febbb3b"
      },
      "outputs": [
        {
          "name": "stdout",
          "output_type": "stream",
          "text": [
            "             Canal 1    Canal 2    Canal 3    Canal 4    Canal 5     Canal 6  \\\n",
            "Sujeto 1    8.997830   6.000801   6.143172   7.392954   8.529217   31.991725   \n",
            "Sujeto 2    6.219122   5.630588   5.409817   4.744892   6.045530   11.399107   \n",
            "Sujeto 3    4.790905   7.004286   4.794615   4.687043   4.077471   14.485424   \n",
            "Sujeto 4   11.723026  13.045671  18.320266  12.830111  15.665275   46.848064   \n",
            "Sujeto 5    6.078615   6.699329   8.834439   7.420552   5.648871   19.350824   \n",
            "Sujeto 6   19.046051  21.787690  20.989997  20.857644  23.256869  125.824697   \n",
            "Sujeto 7    8.101208   6.562124   6.994337   6.376014   7.892362   25.365117   \n",
            "Sujeto 8    5.346474   5.420594   6.077195  12.080843   7.394587   21.651413   \n",
            "Sujeto 9   11.829369  11.995128  15.316873  11.444447   9.966158   32.580716   \n",
            "Sujeto 10  11.871163  11.035004  12.270158  10.901968  11.297170   64.157132   \n",
            "Sujeto 11  24.287259  25.903265  36.585976  29.853850  28.276088  143.552881   \n",
            "Sujeto 12   8.849514  13.321640  16.234421  12.780978  11.707812   28.647067   \n",
            "Sujeto 13  24.461937  32.162385  42.587957  39.043613  32.896313  229.315772   \n",
            "Sujeto 14   8.000803   6.839050   8.012237   7.241058   7.361922   15.721527   \n",
            "Sujeto 15   7.266230   8.930096  15.060492  14.784637  15.027486   11.044091   \n",
            "Sujeto 16  16.094156  15.579789  16.176133  14.405465  12.684312   29.763107   \n",
            "Sujeto 17  14.701098  15.607296  15.331985  12.348671  12.648327   33.980558   \n",
            "Sujeto 18  24.968917  23.015248  23.373253  21.554651  21.461634  212.419060   \n",
            "Sujeto 19  11.017417  10.625467  13.684775   6.598778   9.186668   42.699362   \n",
            "Sujeto 20   5.465114   7.335274  10.811949   7.724626   6.735518   14.487192   \n",
            "Sujeto 21   8.388289  10.234343  12.660311  12.018236  10.361866   38.195678   \n",
            "Sujeto 22  16.950070  16.197734  14.597414  11.719557  12.520203   61.369009   \n",
            "Sujeto 23  15.566663  10.949996   8.576554  10.266717  15.932188   39.898893   \n",
            "\n",
            "              Canal 7     Canal 8  \n",
            "Sujeto 1    26.857730   33.201820  \n",
            "Sujeto 2    11.850310   12.803033  \n",
            "Sujeto 3    20.352949   18.312429  \n",
            "Sujeto 4    33.845454   55.562172  \n",
            "Sujeto 5    20.914487   30.664305  \n",
            "Sujeto 6    89.672719  131.180590  \n",
            "Sujeto 7    25.371119   36.847031  \n",
            "Sujeto 8    21.280471   19.521987  \n",
            "Sujeto 9    30.276417   29.220524  \n",
            "Sujeto 10   64.444243   76.399642  \n",
            "Sujeto 11  111.372897  176.656149  \n",
            "Sujeto 12   27.414826   29.850437  \n",
            "Sujeto 13  200.133319  277.063790  \n",
            "Sujeto 14   14.095981   16.558711  \n",
            "Sujeto 15    9.131259    9.227034  \n",
            "Sujeto 16   33.102066   34.518485  \n",
            "Sujeto 17   37.433090   51.761221  \n",
            "Sujeto 18  141.672774  204.451013  \n",
            "Sujeto 19   29.974390   36.183905  \n",
            "Sujeto 20   15.734714   16.267961  \n",
            "Sujeto 21   30.299565   40.792706  \n",
            "Sujeto 22   51.663750   50.422922  \n",
            "Sujeto 23   37.076406   33.248912  \n"
          ]
        }
      ],
      "source": [
        "s_parkinson = np.zeros((len(datos_parkinson),8))\n",
        "\n",
        "for d in range(len(datos_parkinson)):\n",
        "  data = sio.loadmat(datos_parkinson[d])\n",
        "  datos = data['data']\n",
        "  j = promedio_energia(datos)\n",
        "  s_parkinson[d] = j\n",
        "\n",
        "df_parkinson = pd.DataFrame ({'Canal 1':pd.Series(s_parkinson[:,0]),'Canal 2':pd.Series(s_parkinson[:,1]),'Canal 3':pd.Series(s_parkinson[:,2]),'Canal 4':pd.Series(s_parkinson[:,3]),'Canal 4':pd.Series(s_parkinson[:,3]),'Canal 5':pd.Series(s_parkinson[:,4]),'Canal 6':pd.Series(s_parkinson[:,5]),'Canal 7':pd.Series(s_parkinson[:,6]),'Canal 8':pd.Series(s_parkinson[:,7])})\n",
        "df_parkinson = df_parkinson.rename(index={0: 'Sujeto 1', 1: 'Sujeto 2', 2: 'Sujeto 3', 3: 'Sujeto 4', 4: 'Sujeto 5', 5: 'Sujeto 6', 6: 'Sujeto 7', 7: 'Sujeto 8', 8: 'Sujeto 9', 9: 'Sujeto 10', 10: 'Sujeto 11', 11: 'Sujeto 12', 12: 'Sujeto 13', 13: 'Sujeto 14', 14: 'Sujeto 15', 15: 'Sujeto 16', 16: 'Sujeto 17', 17: 'Sujeto 18', 18: 'Sujeto 19', 19: 'Sujeto 20', 20: 'Sujeto 21', 21: 'Sujeto 22', 22: 'Sujeto 23'})\n",
        "print(df_parkinson)"
      ]
    },
    {
      "cell_type": "markdown",
      "metadata": {
        "id": "RAsbtOvY8v4H"
      },
      "source": [
        "# Punto 3\n",
        "Determine si existe diferencia estadística entre canales de cada grupo de sujetos a través de una prueba t. Compruebe los supuestos necesarios para realizar una prueba t, esto es: Normalidad de la variable, independencia (se asume que los grupos son independientes), y homocedasticidad (use una prueba de Levene), finalmente realice la prueba t para determinar si existen diferencias entre los canales entre grupos de sujetos. De no cumplirse los requisitos, realice entonces un análisis no paramétrico (prueba U de Mann-Whitney). Este numeral tiene como objetivo identificar los canales que entregan información diferencial entre pacientes Sanos y con enfermedad de Parkinson."
      ]
    },
    {
      "cell_type": "markdown",
      "metadata": {
        "id": "sgufCRBA4fCV"
      },
      "source": [
        "####Se aplica prueba Shapiro porque n<50 , para evaluar inicialmente la ditribución de los datos y corroborar supuestos para evaluar prueba t. Se escoge un **alpha= 0.05**"
      ]
    },
    {
      "cell_type": "code",
      "execution_count": 12,
      "metadata": {
        "id": "UpwpaHsyNotM"
      },
      "outputs": [],
      "source": [
        "from scipy.stats import ttest_ind,shapiro, levene\n",
        "from sklearn.preprocessing import power_transform"
      ]
    },
    {
      "cell_type": "markdown",
      "metadata": {
        "id": "PvTbaQr4OVt9"
      },
      "source": []
    },
    {
      "cell_type": "code",
      "execution_count": 23,
      "metadata": {
        "colab": {
          "base_uri": "https://localhost:8080/"
        },
        "id": "mjgm5WWVKuI-",
        "outputId": "8f9a8e23-86b0-4537-b0b6-97c7c2f97b0e"
      },
      "outputs": [
        {
          "name": "stdout",
          "output_type": "stream",
          "text": [
            "Ho: Los datos de sujetos de control provienen de una distribución normal.\n",
            "Ha: Los datos de sujetos de control no provienen de una distribución normal.\n",
            "Resultado de prueba Shapiro para datos de control:\n",
            "[0.006252463907003403, 0.0039543164893984795, 0.008902405388653278, 0.00019698070536833256, 0.0007995034102350473, 6.077864782128017e-06, 4.219014954287559e-06, 5.307714445734746e-07]\n"
          ]
        }
      ],
      "source": [
        "PC=[] # se crea un vector vacio para almacenar el valor de p\n",
        "i=0\n",
        "for i in range(s_control.shape[1]):\n",
        "  n_control = s_control[:,i] # se extrae el valor de la energia promedio de cada uno de los canales de todos los sujetos control\n",
        "  stat, p = shapiro(n_control) # se realiza la prueba shapiro\n",
        "  PC.append(p) # se agregan los valores de p al vector\n",
        "  i = i+1 # se crea un contador para entrar a diferentes canales\n",
        "print('Ho: Los datos de sujetos de control provienen de una distribución normal.')\n",
        "print('Ha: Los datos de sujetos de control no provienen de una distribución normal.')\n",
        "print('Resultado de prueba Shapiro para datos de control:')\n",
        "print(PC)"
      ]
    },
    {
      "cell_type": "code",
      "execution_count": 22,
      "metadata": {
        "colab": {
          "base_uri": "https://localhost:8080/"
        },
        "id": "-Zy6qPnXLclh",
        "outputId": "6d0b8908-e367-45dc-a878-ffc340a51d16"
      },
      "outputs": [
        {
          "name": "stdout",
          "output_type": "stream",
          "text": [
            "Ho: Los datos de sujetos de parkinson provienen de una distribución normal.\n",
            "Ha: Los datos de sujetos de parkinson no provienen de una distribución normal.\n",
            "Resultado de prueba Shapiro para datos de parkinson:\n",
            "[0.014391767792403698, 0.00452211732044816, 0.0009095783461816609, 0.00031213118927553296, 0.005323005840182304, 9.81468656391371e-06, 1.670212805038318e-05, 8.983333827927709e-06]\n"
          ]
        }
      ],
      "source": [
        "PP=[]\n",
        "i=0\n",
        "for i in range(s_parkinson.shape[1]):\n",
        "  n_parkinson = s_parkinson[:,i] # se extrae el valor de la energia promedio de cada uno de los canales de todos los sujetos parkinson\n",
        "  stat, p = shapiro(n_parkinson)\n",
        "  PP.append(p)\n",
        "  i = i+1\n",
        "\n",
        "print('Ho: Los datos de sujetos de parkinson provienen de una distribución normal.')\n",
        "print('Ha: Los datos de sujetos de parkinson no provienen de una distribución normal.')\n",
        "print('Resultado de prueba Shapiro para datos de parkinson:')\n",
        "print(PP)"
      ]
    },
    {
      "cell_type": "markdown",
      "metadata": {
        "id": "vHMrEM-sOapW"
      },
      "source": [
        "Los resultados de la prueba shapiro arrojan valores por debajo del aplha escogido (0.05) de esta manera rechazandose la hipótesis nula. Esto nos permite decir que la distribución tanto de los datos de control como de parkinson no siguen una distribución normal.\n",
        "\n",
        "Sin embargo se realizará la prueba de Levene de homocedasticidad para comprobar todos los supuestos. Se asume nuevamente el valor de **alpha=0.05**"
      ]
    },
    {
      "cell_type": "code",
      "execution_count": 21,
      "metadata": {
        "colab": {
          "base_uri": "https://localhost:8080/"
        },
        "id": "Nk1we3PTO9_J",
        "outputId": "49c16a51-e9e1-4eca-b90c-1987e4c1ce05"
      },
      "outputs": [
        {
          "name": "stdout",
          "output_type": "stream",
          "text": [
            "Ho: Las varianzas entre los grupos son homogéneas.\n",
            "Ha: Las varianzas entre los grupos no son homogéneas.\n",
            "[0.8848020019348577, 0.9590926426745954, 0.9776337925998679, 0.7592528471707682, 0.9045548264900758, 0.4719758936966435, 0.6178759981277988, 0.5940765419878595]\n"
          ]
        }
      ],
      "source": [
        "#Se realiza la prueba de homocedasticidad para cada sujeto de datos de control y parkinson por canal\n",
        "p_homo = [] #Lista vacía para agregar los valor de P de la prueba Levene de cada canal\n",
        "\n",
        "#Canal1\n",
        "suj_control = s_control[:,0]\n",
        "suj_parkinson = s_parkinson[:,0]\n",
        "estadistica, p = levene(suj_control, suj_parkinson)\n",
        "p_homo.append(p)\n",
        "#Canal2\n",
        "suj_control = s_control[:,1]\n",
        "suj_parkinson = s_parkinson[:,1]\n",
        "estadistica, p = levene(suj_control, suj_parkinson)\n",
        "p_homo.append(p)\n",
        "#Canal3\n",
        "suj_control = s_control[:,2]\n",
        "suj_parkinson = s_parkinson[:,2]\n",
        "estadistica, p = levene(suj_control, suj_parkinson)\n",
        "p_homo.append(p)\n",
        "#Canal4\n",
        "suj_control = s_control[:,3]\n",
        "suj_parkinson = s_parkinson[:,3]\n",
        "estadistica, p = levene(suj_control, suj_parkinson)\n",
        "p_homo.append(p)\n",
        "#Canal5\n",
        "suj_control = s_control[:,4]\n",
        "suj_parkinson = s_parkinson[:,4]\n",
        "estadistica, p = levene(suj_control, suj_parkinson)\n",
        "p_homo.append(p)\n",
        "#Canal6\n",
        "suj_control = s_control[:,5]\n",
        "suj_parkinson = s_parkinson[:,5]\n",
        "estadistica, p = levene(suj_control, suj_parkinson)\n",
        "p_homo.append(p)\n",
        "#Canal7\n",
        "suj_control = s_control[:,6]\n",
        "suj_parkinson = s_parkinson[:,6]\n",
        "estadistica, p = levene(suj_control, suj_parkinson)\n",
        "p_homo.append(p)\n",
        "#Canal8\n",
        "suj_control = s_control[:,7]\n",
        "suj_parkinson = s_parkinson[:,7]\n",
        "estadistica, p = levene(suj_control, suj_parkinson)\n",
        "p_homo.append(p)\n",
        "\n",
        "print('Ho: Las varianzas entre los grupos son homogéneas.')\n",
        "print('Ha: Las varianzas entre los grupos no son homogéneas.')\n",
        "print(p_homo)"
      ]
    },
    {
      "cell_type": "markdown",
      "metadata": {
        "id": "QrJT73lNQZk2"
      },
      "source": [
        "Los resultados de la prueba de homocedasticidad de sujetos de control y parkinson por canal, arroja valor de P mayores al alpha escogido, por lo cual no se rechaza la hipótesis nula y se puede decir que los datos cumplen el supuesto de que los valores de sus varianzas no están muy alejados entre sí y no tienen diferencias significativas.\n",
        "\n",
        "Finalmente, se asume independencia de los datos y aunque se cumpla también con el suspuesto de homocedasticidad, se realizará una prueba no paramétrica Mann Whitney porque los datos no cumplen con una distribución normal."
      ]
    },
    {
      "cell_type": "code",
      "execution_count": 18,
      "metadata": {
        "id": "a154TKMgXZkI"
      },
      "outputs": [],
      "source": [
        "import scipy.stats as stats"
      ]
    },
    {
      "cell_type": "code",
      "execution_count": 20,
      "metadata": {
        "colab": {
          "base_uri": "https://localhost:8080/"
        },
        "id": "vbxaSfnkR6Q7",
        "outputId": "ab8a6c41-0451-4aed-a623-64a522cbc6c1"
      },
      "outputs": [
        {
          "name": "stdout",
          "output_type": "stream",
          "text": [
            "Ho = Las medianas de los ciclos son homogeneas.\n",
            "Ha = Las medianas de los ciclos no son homogeneas.\n",
            "[0.4057005715724912, 0.5705282028889593, 0.46037288907343565, 0.23446184956559823, 0.5600175059745567, 0.2800747649284743, 0.11830081572892007, 0.15054429358714408]\n"
          ]
        }
      ],
      "source": [
        "#Se realiza la prueba de Mann Whitney para cada sujeto de datos de control y parkinson por canal\n",
        "p_mann = [] #Lista vacía para agregar los valor de P de la prueba Mann Whitney de cada canal\n",
        "\n",
        "#Canal1\n",
        "suj_control = s_control[:,0]\n",
        "suj_parkinson = s_parkinson[:,0]\n",
        "estadistica, p = stats.mannwhitneyu(suj_control, suj_parkinson)\n",
        "p_mann.append(p)\n",
        "#Canal2\n",
        "suj_control = s_control[:,1]\n",
        "suj_parkinson = s_parkinson[:,1]\n",
        "estadistica, p = stats.mannwhitneyu(suj_control, suj_parkinson)\n",
        "p_mann.append(p)\n",
        "#Canal3\n",
        "suj_control = s_control[:,2]\n",
        "suj_parkinson = s_parkinson[:,2]\n",
        "estadistica, p = stats.mannwhitneyu(suj_control, suj_parkinson)\n",
        "p_mann.append(p)\n",
        "#Canal4\n",
        "suj_control = s_control[:,3]\n",
        "suj_parkinson = s_parkinson[:,3]\n",
        "estadistica, p = stats.mannwhitneyu(suj_control, suj_parkinson)\n",
        "p_mann.append(p)\n",
        "#Canal5\n",
        "suj_control = s_control[:,4]\n",
        "suj_parkinson = s_parkinson[:,4]\n",
        "estadistica, p = stats.mannwhitneyu(suj_control, suj_parkinson)\n",
        "p_mann.append(p)\n",
        "#Canal6\n",
        "suj_control = s_control[:,5]\n",
        "suj_parkinson = s_parkinson[:,5]\n",
        "estadistica, p = stats.mannwhitneyu(suj_control, suj_parkinson)\n",
        "p_mann.append(p)\n",
        "#Canal7\n",
        "suj_control = s_control[:,6]\n",
        "suj_parkinson = s_parkinson[:,6]\n",
        "estadistica, p = stats.mannwhitneyu(suj_control, suj_parkinson)\n",
        "p_mann.append(p)\n",
        "#Canal8\n",
        "suj_control = s_control[:,7]\n",
        "suj_parkinson = s_parkinson[:,7]\n",
        "estadistica, p = stats.mannwhitneyu(suj_control, suj_parkinson)\n",
        "p_mann.append(p)\n",
        "\n",
        "print('Ho = Las medianas de los ciclos son homogeneas.')\n",
        "print('Ha = Las medianas de los ciclos no son homogeneas.')\n",
        "print(p_mann)"
      ]
    },
    {
      "cell_type": "markdown",
      "metadata": {
        "id": "a_tQqjYPYOPt"
      },
      "source": [
        "Una vez realizada la prueba U de Mann-Whitney se obtuvieron valores de mayores a 0.05 por lo cual no se rechaza la hipótesis nula. Se puede demostrar, con las hipótesis planteadas, que la energía de la señal en los diferentes canales entre los grupos control y Parkinson no presentan diferencias significativas, de lo cual se puede concluir que la energía de la señal no es un factor determinante, en el que se tenía que la energía promedio de los canales del EEG en pacientes con Parkinson son diferentes a la energía promedio de la señal EEG en pacientes sanos."
      ]
    },
    {
      "cell_type": "markdown",
      "metadata": {
        "id": "VH8VpKG5YVNM"
      },
      "source": [
        "# Conclusiones\n",
        "Los resultados obtenidos a partir de las pruebas estadisticas realizadas no proveen una perspectiva completa de las diferencias entre las poblaciones evaluadas, lo que da lugar a inferir que la energía promedio de canales no es un parametro que entregue información significativa.  En el análisis de datos realizado en el punto 3 con el objetivo de identificar canales o características informativas diferenciales entre pacientes sanos y pacientes con enfermedad de Parkinson, no se encontraron diferencias estadísticamente significativas. Esto puede significar que en los datos y en las variables evaluadas en este estudio, no hay características distintivas que permitan una clara distinción entre pacientes de control y con parkinson con la energía promedio de la señal."
      ]
    }
  ],
  "metadata": {
    "colab": {
      "provenance": []
    },
    "kernelspec": {
      "display_name": "Python 3",
      "name": "python3"
    },
    "language_info": {
      "name": "python",
      "version": "3.11.7"
    }
  },
  "nbformat": 4,
  "nbformat_minor": 0
}
